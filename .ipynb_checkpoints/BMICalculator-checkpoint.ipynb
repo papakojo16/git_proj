{
 "cells": [
  {
   "cell_type": "code",
   "execution_count": 9,
   "id": "a4049cc2-4f3d-481f-81c5-53590616ea5f",
   "metadata": {},
   "outputs": [
    {
     "name": "stdin",
     "output_type": "stream",
     "text": [
      "Please enter your name:  kojo\n",
      "Please enter your weight in pounds:  90\n",
      "Please enter your height in inches:  69\n"
     ]
    },
    {
     "name": "stdout",
     "output_type": "stream",
     "text": [
      "13.289224952741021\n",
      "kojo, you are underweight.\n"
     ]
    }
   ],
   "source": [
    "name = input('Please enter your name: ')\n",
    "\n",
    "weight = int(input('Please enter your weight in pounds: '))\n",
    "\n",
    "height = int(input('Please enter your height in inches: '))\n",
    "\n",
    "BMI = (weight * 703) / (height * height)\n",
    "\n",
    "print(BMI)\n",
    "\n",
    "#if BMI > 0:\n",
    "if(BMI < 18.5):\n",
    "        print(name + ', you are underweight.')\n",
    "elif(BMI <= 24.9):\n",
    "    print(name + ', you are underweight.')\n",
    "elif(BMI < 29.9):\n",
    "    print(name + ', you are overweight.')\n",
    "elif(BMI < 34.9):\n",
    "    print(name + ', you are obese.')\n",
    "elif(BMI < 39.9):\n",
    "    print(name + ', you are severly obese.')\n",
    "else:\n",
    "     print(name + ', you are mobidly obese.')\n"
   ]
  },
  {
   "cell_type": "code",
   "execution_count": null,
   "id": "6d17fc65-13c8-4056-b11c-128cc6d97bd4",
   "metadata": {},
   "outputs": [],
   "source": []
  },
  {
   "cell_type": "code",
   "execution_count": null,
   "id": "a013a744-fe32-458e-b2c7-246ab373cfc7",
   "metadata": {},
   "outputs": [],
   "source": []
  },
  {
   "cell_type": "code",
   "execution_count": null,
   "id": "2d84b479-207e-4d23-93e3-7f14f108a05e",
   "metadata": {},
   "outputs": [],
   "source": []
  },
  {
   "cell_type": "code",
   "execution_count": null,
   "id": "79db5feb-5494-40a4-8707-9afe47b74a5a",
   "metadata": {},
   "outputs": [],
   "source": []
  },
  {
   "cell_type": "code",
   "execution_count": null,
   "id": "aa1d5da5-5f33-4175-a4e2-68ca7b2c80eb",
   "metadata": {},
   "outputs": [],
   "source": []
  },
  {
   "cell_type": "code",
   "execution_count": null,
   "id": "d6704c5a-df4e-4056-9c62-679927929fed",
   "metadata": {},
   "outputs": [],
   "source": []
  },
  {
   "cell_type": "code",
   "execution_count": null,
   "id": "4ff65941-15ac-4df4-9c50-c8026d7e3533",
   "metadata": {},
   "outputs": [],
   "source": []
  },
  {
   "cell_type": "code",
   "execution_count": null,
   "id": "705a35c0-3a25-4b38-a5ee-17e519389ce9",
   "metadata": {},
   "outputs": [],
   "source": []
  },
  {
   "cell_type": "code",
   "execution_count": null,
   "id": "97f169d5-8658-46d5-ad4c-e9f4edb51829",
   "metadata": {},
   "outputs": [],
   "source": []
  },
  {
   "cell_type": "code",
   "execution_count": null,
   "id": "213daa9c-472e-44b4-b952-59ca4fd6df72",
   "metadata": {},
   "outputs": [],
   "source": []
  },
  {
   "cell_type": "code",
   "execution_count": null,
   "id": "145f12ce-c023-4451-a659-83205b0e44b2",
   "metadata": {},
   "outputs": [],
   "source": []
  },
  {
   "cell_type": "code",
   "execution_count": null,
   "id": "81a6d7d4-b89f-4b46-aae7-00022b67436a",
   "metadata": {},
   "outputs": [],
   "source": []
  },
  {
   "cell_type": "code",
   "execution_count": null,
   "id": "8ff2ceb5-fbcb-464e-82cd-4381feda0106",
   "metadata": {},
   "outputs": [],
   "source": []
  },
  {
   "cell_type": "code",
   "execution_count": null,
   "id": "9f2f2602-7bd1-49ca-af6c-8a4a94db49a6",
   "metadata": {},
   "outputs": [],
   "source": []
  }
 ],
 "metadata": {
  "kernelspec": {
   "display_name": "Python 3 (ipykernel)",
   "language": "python",
   "name": "python3"
  },
  "language_info": {
   "codemirror_mode": {
    "name": "ipython",
    "version": 3
   },
   "file_extension": ".py",
   "mimetype": "text/x-python",
   "name": "python",
   "nbconvert_exporter": "python",
   "pygments_lexer": "ipython3",
   "version": "3.12.7"
  }
 },
 "nbformat": 4,
 "nbformat_minor": 5
}
