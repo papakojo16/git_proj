{
 "cells": [
  {
   "cell_type": "code",
   "execution_count": 1,
   "id": "f077c844-fa9b-473e-9c0c-a73834ef3c59",
   "metadata": {},
   "outputs": [],
   "source": [
    "import os, shutil"
   ]
  },
  {
   "cell_type": "code",
   "execution_count": 2,
   "id": "1ab130e6-3c93-4f62-b4d6-52c3c132dd44",
   "metadata": {},
   "outputs": [],
   "source": [
    "path = r\"C:/Users/papa kojo/Desktop/miniproject/\""
   ]
  },
  {
   "cell_type": "code",
   "execution_count": 3,
   "id": "91c5d01b-86de-44c4-8d49-b960c0d46122",
   "metadata": {},
   "outputs": [],
   "source": [
    "file_name = os.listdir(path)"
   ]
  },
  {
   "cell_type": "code",
   "execution_count": 5,
   "id": "a818abe0-f0e4-4e60-8de9-d400ba465cdf",
   "metadata": {},
   "outputs": [],
   "source": [
    "folder_names = ['Excel_proj', 'Word_docs', 'Music']\n",
    "\n",
    "for value in range(0,3):\n",
    "    if not os.path.exists(path + folder_names[value]):\n",
    "        os.makedirs(path + folder_names[value])\n",
    "\n",
    "for file in file_name:\n",
    "    if \".xlsx\" in file and not os.path.exists(path + \"Excel_proj/\" + file):\n",
    "        shutil.move(path + file, path + \"Excel_proj/\" + file)\n",
    "    elif \".docx\" in file and not os.path.exists(path + \"Word_docs/\" + file):\n",
    "        shutil.move(path + file, path + \"Word_docs/\" + file) \n",
    "    elif \".mp3\" in file and not os.path.exists(path + \"Music/\" + file):\n",
    "        shutil.move(path + file, path + \"Music/\" + file)     "
   ]
  },
  {
   "cell_type": "code",
   "execution_count": null,
   "id": "fd60b40c-78ac-479b-9304-825d790a707d",
   "metadata": {},
   "outputs": [],
   "source": []
  }
 ],
 "metadata": {
  "kernelspec": {
   "display_name": "Python 3 (ipykernel)",
   "language": "python",
   "name": "python3"
  },
  "language_info": {
   "codemirror_mode": {
    "name": "ipython",
    "version": 3
   },
   "file_extension": ".py",
   "mimetype": "text/x-python",
   "name": "python",
   "nbconvert_exporter": "python",
   "pygments_lexer": "ipython3",
   "version": "3.12.7"
  }
 },
 "nbformat": 4,
 "nbformat_minor": 5
}
